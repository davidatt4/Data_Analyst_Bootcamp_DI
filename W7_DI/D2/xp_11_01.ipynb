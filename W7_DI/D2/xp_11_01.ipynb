{
 "cells": [
  {
   "cell_type": "code",
   "execution_count": null,
   "metadata": {},
   "outputs": [],
   "source": [
    "# Install necessary libraries\n",
    "%pip install selenium beautifulsoup4 chromedriver-autoinstaller\n",
    "from selenium import webdriver\n",
    "from bs4 import BeautifulSoup\n",
    "import chromedriver_autoinstaller\n",
    "import time\n",
    "chrome_path = chromedriver_autoinstaller.install() \n",
    "driver = webdriver.Chrome(chrome_path)\n",
    "url = \"https://www.inmotionhosting.com/\"\n",
    "driver.get(url)\n",
    "time.sleep(5)\n",
    "plan_elements = driver.find_elements_by_class_name('plan')\n",
    "data = []\n",
    "\n",
    "for plan_element in plan_elements:\n",
    "    plan_name = plan_element.find_element_by_class_name('plan-name').text\n",
    "    features = plan_element.find_element_by_class_name('plan-features').text\n",
    "    price = plan_element.find_element_by_class_name('plan-price').text\n",
    "    data.append({\n",
    "        'plan_name': plan_name,\n",
    "        'features': features,\n",
    "        'price': price\n",
    "    })\n",
    "\n",
    "print(data)\n",
    "driver.quit()\n"
   ]
  }
 ],
 "metadata": {
  "kernelspec": {
   "display_name": "Python 3",
   "language": "python",
   "name": "python3"
  },
  "language_info": {
   "name": "python",
   "version": "3.12.0"
  }
 },
 "nbformat": 4,
 "nbformat_minor": 2
}
