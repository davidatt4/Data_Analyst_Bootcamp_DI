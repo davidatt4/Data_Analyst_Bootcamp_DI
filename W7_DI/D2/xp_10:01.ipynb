{
 "cells": [
  {
   "cell_type": "code",
   "execution_count": null,
   "metadata": {},
   "outputs": [],
   "source": [
    "# Install necessary libraries\n",
    "%pip install selenium beautifulsoup4 chromedriver-autoinstaller\n",
    "\n",
    "# Import libraries\n",
    "from selenium import webdriver\n",
    "from bs4 import BeautifulSoup\n",
    "import chromedriver_autoinstaller\n",
    "import time\n",
    "\n",
    "# Initialize Selenium WebDriver\n",
    "chrome_path = chromedriver_autoinstaller.install()  # Install the latest version of ChromeDriver\n",
    "driver = webdriver.Chrome(chrome_path)\n",
    "\n",
    "# Load the Web Page\n",
    "url = \"https://www.inmotionhosting.com/\"\n",
    "driver.get(url)\n",
    "\n",
    "# Wait for the page to load (adjust the sleep time as needed)\n",
    "time.sleep(5)\n",
    "\n",
    "# Identify the elements that contain hosting plan details\n",
    "# You need to inspect the webpage to find the appropriate HTML elements\n",
    "# I'll provide a generic example assuming the plans are in div elements with class 'plan'\n",
    "plan_elements = driver.find_elements_by_class_name('plan')\n",
    "\n",
    "# Extract necessary data such as plan names, features, and pricing\n",
    "data = []\n",
    "\n",
    "for plan_element in plan_elements:\n",
    "    plan_name = plan_element.find_element_by_class_name('plan-name').text\n",
    "    features = plan_element.find_element_by_class_name('plan-features').text\n",
    "    price = plan_element.find_element_by_class_name('plan-price').text\n",
    "\n",
    "    # Store the data\n",
    "    data.append({\n",
    "        'plan_name': plan_name,\n",
    "        'features': features,\n",
    "        'price': price\n",
    "    })\n",
    "\n",
    "# Print or save the data\n",
    "print(data)\n",
    "\n",
    "# Close Selenium WebDriver\n",
    "driver.quit()\n"
   ]
  }
 ],
 "metadata": {
  "kernelspec": {
   "display_name": "Python 3",
   "language": "python",
   "name": "python3"
  },
  "language_info": {
   "name": "python",
   "version": "3.12.0"
  }
 },
 "nbformat": 4,
 "nbformat_minor": 2
}
